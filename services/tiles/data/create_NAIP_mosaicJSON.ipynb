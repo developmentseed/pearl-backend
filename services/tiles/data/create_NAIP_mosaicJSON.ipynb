{
 "cells": [
  {
   "cell_type": "code",
   "execution_count": 52,
   "metadata": {},
   "outputs": [],
   "source": [
    "from shapely.geometry import mapping\n",
    "import pickle\n",
    "import urllib\n",
    "\n",
    "from cogeo_mosaic.mosaic import MosaicJSON\n",
    "from cogeo_mosaic.backends import MosaicBackend"
   ]
  },
  {
   "cell_type": "markdown",
   "metadata": {},
   "source": [
    "### Input Data\n",
    "\n",
    "First we need to download the NAIP data index produced by Microsoft"
   ]
  },
  {
   "cell_type": "code",
   "execution_count": null,
   "metadata": {},
   "outputs": [],
   "source": [
    "class DownloadProgressBar():\n",
    "    \"\"\"\n",
    "    https://stackoverflow.com/questions/37748105/how-to-use-progressbar-module-with-urlretrieve\n",
    "    \"\"\"\n",
    "    \n",
    "    def __init__(self):\n",
    "        self.pbar = None\n",
    "\n",
    "    def __call__(self, block_num, block_size, total_size):\n",
    "        if not self.pbar:\n",
    "            self.pbar = progressbar.ProgressBar(max_value=total_size)\n",
    "            self.pbar.start()\n",
    "            \n",
    "        downloaded = block_num * block_size\n",
    "        if downloaded < total_size:\n",
    "            self.pbar.update(downloaded)\n",
    "        else:\n",
    "            self.pbar.finish()\n",
    "\n",
    "# Download index\n",
    "url = \"https://naipeuwest.blob.core.windows.net/naip-index/rtree/tiles.p\"\n",
    "destination_filename = \"tiles.p\"\n",
    "urllib.request.urlretrieve(url, destination_filename, DownloadProgressBar())            "
   ]
  },
  {
   "cell_type": "code",
   "execution_count": null,
   "metadata": {},
   "outputs": [],
   "source": [
    "# Load tile index\n",
    "with open(\"tiles.p\", \"rb\") as f:\n",
    "    tile_index = pickle.load(f)"
   ]
  },
  {
   "cell_type": "markdown",
   "metadata": {},
   "source": [
    "## Create metadata dict"
   ]
  },
  {
   "cell_type": "code",
   "execution_count": 101,
   "metadata": {},
   "outputs": [],
   "source": [
    "# Create Metadata index\n",
    "# v002/al/2015/al_100cm_2015/30086/m_3008601_ne_16_1_20150804.tifv\n",
    "list_of_files = {\n",
    "    f: {\n",
    "        \"path\": f\"https://naipeuwest.blob.core.windows.net/naip/{f}\",\n",
    "        \"geom\": geom,\n",
    "        \"year\": f.split(\"/\")[2],\n",
    "        \"state\": f.split(\"/\")[1],\n",
    "        \"capture_date\": f.split(\"/\")[5].split(\"_\")[5].rstrip(\".tif\"),\n",
    "        \"quadrangle\": f.split(\"/\")[5].split(\"_\")[1],\n",
    "        \"resolution\": int(f.split(\"/\")[3].split(\"_\")[1].rstrip(\"cm\"))\n",
    "    }\n",
    "    for _, (f, geom) in tile_index.items()\n",
    "}"
   ]
  },
  {
   "cell_type": "markdown",
   "metadata": {},
   "source": [
    "### Create Yearly MosaicJSON"
   ]
  },
  {
   "cell_type": "code",
   "execution_count": 82,
   "metadata": {},
   "outputs": [],
   "source": [
    "# There are 3 different resolutions\n",
    "zooms = {\n",
    "    50: {\"minzoom\": 12, \"maxzoom\": 18},\n",
    "    60: {\"minzoom\": 12, \"maxzoom\": 18},\n",
    "    100: {\"minzoom\": 12, \"maxzoom\": 17}\n",
    "}\n",
    "\n",
    "def create_year_mosaic(year: int):\n",
    "    year_files = dict(filter(lambda x: x[1][\"year\"] == str(year), list_of_files.items()))\n",
    "\n",
    "    resolutions = {f[\"resolution\"] for _, f in year_files.items()}\n",
    "\n",
    "    for res in resolutions:\n",
    "        year_files_res = dict(filter(lambda x: x[1][\"resolution\"] == res, year_files.items()))\n",
    "        features = [\n",
    "            {\n",
    "                \"geometry\": mapping(f[\"geom\"]),\n",
    "                \"properties\": {\n",
    "                    \"path\": f[\"path\"],\n",
    "                },\n",
    "                \"type\": \"Feature\",\n",
    "            }\n",
    "            for key, f in year_files_res.items()\n",
    "        ]\n",
    "\n",
    "        mosaicjson = MosaicJSON.from_features(features, **zooms[res])\n",
    "        with MosaicBackend(f\"naip_{year}_{res}cm.json.gz\", mosaic_def=mosaicjson) as mosaic:\n",
    "            mosaic.write(overwrite=True)\n",
    "\n",
    "for year in [2011, 2012, 2013, 2014, 2015, 2016, 2017, 2018, 2019]:\n",
    "    create_year_mosaic(year)"
   ]
  },
  {
   "cell_type": "markdown",
   "metadata": {},
   "source": [
    "### Create `Latest` MosaicJSON"
   ]
  },
  {
   "cell_type": "code",
   "execution_count": 102,
   "metadata": {},
   "outputs": [],
   "source": [
    "# For 50-60cm resolution\n",
    "\n",
    "files_res = dict(filter(lambda x: x[1][\"resolution\"] in [50, 60], list_of_files.items()))\n",
    "features = [\n",
    "    {\n",
    "        \"geometry\": mapping(f[\"geom\"]),\n",
    "        \"properties\": {\n",
    "            \"path\": f[\"path\"],\n",
    "            \"quadrangle\": f[\"quadrangle\"],\n",
    "            \"year\": f[\"year\"],\n",
    "            \"capture_date\": f[\"capture_date\"],\n",
    "            \"resolution\": f[\"resolution\"],\n",
    "        },\n",
    "        \"type\": \"Feature\",\n",
    "    }\n",
    "    for key, f in files_res.items()\n",
    "]\n",
    "features = sorted(features, key=lambda item: item[\"properties\"][\"capture_date\"], reverse=True)\n",
    "\n",
    "def quad_filter(tile, dataset, geoms):\n",
    "    quad = []\n",
    "    out_dataset = []\n",
    "    for d in dataset:\n",
    "        q = d[\"properties\"][\"quadrangle\"]\n",
    "        if q not in quad:\n",
    "            out_dataset.append(d)\n",
    "            quad.append(q)\n",
    "\n",
    "    return out_dataset\n",
    "\n",
    "mosaicjson = MosaicJSON.from_features(features, minzoom=12, maxzoom=18, asset_filter=quad_filter)\n",
    "with MosaicBackend(f\"naip_latest_60cm.json.gz\", mosaic_def=mosaicjson) as mosaic:\n",
    "    mosaic.write(overwrite=True)"
   ]
  },
  {
   "cell_type": "code",
   "execution_count": 111,
   "metadata": {},
   "outputs": [],
   "source": [
    "# For 100cm resolution\n",
    "\n",
    "files_res = dict(filter(lambda x: x[1][\"resolution\"] in [100], list_of_files.items()))\n",
    "features = [\n",
    "    {\n",
    "        \"geometry\": mapping(f[\"geom\"]),\n",
    "        \"properties\": {\n",
    "            \"path\": f[\"path\"],\n",
    "            \"quadrangle\": f[\"quadrangle\"],\n",
    "            \"year\": f[\"year\"],\n",
    "            \"capture_date\": f[\"capture_date\"],\n",
    "            \"resolution\": f[\"resolution\"],\n",
    "        },\n",
    "        \"type\": \"Feature\",\n",
    "    }\n",
    "    for key, f in files_res.items()\n",
    "]\n",
    "features = sorted(features, key=lambda item: item[\"properties\"][\"capture_date\"], reverse=True)\n",
    "\n",
    "def quad_filter(tile, dataset, geoms):\n",
    "    quad = []\n",
    "    out_dataset = []\n",
    "    for d in dataset:\n",
    "        q = d[\"properties\"][\"quadrangle\"]\n",
    "        if q not in quad:\n",
    "            out_dataset.append(d)\n",
    "            quad.append(q)\n",
    "\n",
    "    return out_dataset\n",
    "\n",
    "mosaicjson = MosaicJSON.from_features(features, minzoom=12, maxzoom=17, asset_filter=quad_filter)\n",
    "with MosaicBackend(f\"naip_latest_100cm.json.gz\", mosaic_def=mosaicjson) as mosaic:\n",
    "    mosaic.write(overwrite=True)"
   ]
  },
  {
   "cell_type": "markdown",
   "metadata": {},
   "source": [
    "### Create `Latest` MosaicJSON with mixed resolution"
   ]
  },
  {
   "cell_type": "code",
   "execution_count": 116,
   "metadata": {},
   "outputs": [],
   "source": [
    "features = [\n",
    "    {\n",
    "        \"geometry\": mapping(f[\"geom\"]),\n",
    "        \"properties\": {\n",
    "            \"path\": f[\"path\"],\n",
    "            \"quadrangle\": f[\"quadrangle\"],\n",
    "            \"capture_date\": f[\"capture_date\"],\n",
    "            \"resolution\": f[\"resolution\"],\n",
    "        },\n",
    "        \"type\": \"Feature\",\n",
    "    }\n",
    "    for key, f in list_of_files.items()\n",
    "]\n",
    "\n",
    "# Sort by resolution and by dates\n",
    "features = sorted(\n",
    "    features, key=lambda item: (item[\"properties\"][\"capture_date\"], -item[\"properties\"][\"resolution\"]),\n",
    "    reverse=True\n",
    ")\n",
    "\n",
    "def quad_filter(tile, dataset, geoms):\n",
    "    quad = []\n",
    "    out_dataset = []\n",
    "    for d in dataset:\n",
    "        q = d[\"properties\"][\"quadrangle\"]\n",
    "        if q not in quad:\n",
    "            out_dataset.append(d)\n",
    "            quad.append(q)\n",
    "\n",
    "    return out_dataset\n",
    "\n",
    "mosaicjson = MosaicJSON.from_features(features, minzoom=12, maxzoom=18, asset_filter=quad_filter)\n",
    "with MosaicBackend(f\"naip_latest.json.gz\", mosaic_def=mosaicjson) as mosaic:\n",
    "    mosaic.write(overwrite=True)"
   ]
  }
 ],
 "metadata": {
  "kernelspec": {
   "display_name": "Python 3",
   "language": "python",
   "name": "python3"
  },
  "language_info": {
   "codemirror_mode": {
    "name": "ipython",
    "version": 3
   },
   "file_extension": ".py",
   "mimetype": "text/x-python",
   "name": "python",
   "nbconvert_exporter": "python",
   "pygments_lexer": "ipython3",
   "version": "3.8.6"
  }
 },
 "nbformat": 4,
 "nbformat_minor": 4
}
